{
 "cells": [
  {
   "cell_type": "code",
   "execution_count": null,
   "id": "d9e5ae97-d2c1-45ad-86d3-8c1af13f942f",
   "metadata": {},
   "outputs": [],
   "source": []
  },
  {
   "cell_type": "code",
   "execution_count": null,
   "id": "ac48f4ae-3230-44a1-b345-c2daf29200e8",
   "metadata": {},
   "outputs": [],
   "source": [
    "from pyxai import Explainer\n",
    "Explainer.show()"
   ]
  },
  {
   "cell_type": "code",
   "execution_count": 1,
   "id": "74e0ba65-ac2b-4b5c-b3c6-685af1fdd8d8",
   "metadata": {},
   "outputs": [],
   "source": [
    "import sys\n"
   ]
  },
  {
   "cell_type": "code",
   "execution_count": null,
   "id": "3e70b995-b387-40d8-84e7-05bc820880a2",
   "metadata": {},
   "outputs": [],
   "source": []
  },
  {
   "cell_type": "code",
   "execution_count": null,
   "id": "c31ca4eb-b740-4e4d-8885-cab0c1eed6f7",
   "metadata": {},
   "outputs": [],
   "source": []
  }
 ],
 "metadata": {
  "kernelspec": {
   "display_name": "Python 3 (ipykernel)",
   "language": "python",
   "name": "python3"
  },
  "language_info": {
   "codemirror_mode": {
    "name": "ipython",
    "version": 3
   },
   "file_extension": ".py",
   "mimetype": "text/x-python",
   "name": "python",
   "nbconvert_exporter": "python",
   "pygments_lexer": "ipython3",
   "version": "3.10.9"
  }
 },
 "nbformat": 4,
 "nbformat_minor": 5
}
